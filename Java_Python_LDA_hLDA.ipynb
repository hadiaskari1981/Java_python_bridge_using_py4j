{
 "cells": [
  {
   "cell_type": "code",
   "execution_count": 1,
   "metadata": {},
   "outputs": [],
   "source": [
    "from py4j.java_gateway import JavaGateway"
   ]
  },
  {
   "cell_type": "code",
   "execution_count": 2,
   "metadata": {},
   "outputs": [],
   "source": [
    "gateway = JavaGateway()"
   ]
  },
  {
   "cell_type": "code",
   "execution_count": 6,
   "metadata": {},
   "outputs": [],
   "source": [
    "sarray = gateway.new_array(gateway.jvm.java.lang.String,2)\n",
    "sarray[0] = '/home/hadi/hLDA_GitHub/ISI_Abstract_train.txt'\n",
    "#sarray[1] = '/home/hadi/hLDA_GitHub/ISI_Abstract_test.txt'"
   ]
  },
  {
   "cell_type": "code",
   "execution_count": 7,
   "metadata": {},
   "outputs": [],
   "source": [
    "pipeList= gateway.jvm.java.util.ArrayList();\n",
    "pipeList.add(gateway.jvm.cc.mallet.pipe.CharSequenceLowercase());\n",
    "pipeList.add( gateway.jvm.cc.mallet.pipe.CharSequence2TokenSequence\\\n",
    "             (gateway.jvm.java.util.regex.Pattern.compile(\"\\\\p{L}[\\\\p{L}-_\\\\p{N}]+[\\\\p{L}\\\\p{N}]\")));\n",
    "pipeList.add(gateway.jvm.cc.mallet.pipe.TokenSequenceRemoveStopwords(gateway.jvm.java.io.File\\\n",
    "                                                    (\"stoplists/fr.txt\"), \"UTF-8\", False, False, False));\n",
    "pipeList.add(gateway.jvm.cc.mallet.pipe.TokenSequenceRemoveStopwords(gateway.jvm.java.io.File\\\n",
    "                                                    (\"stoplists/en.txt\"), \"UTF-8\", False, False, False));\n",
    "pipeList.add(gateway.jvm.cc.mallet.pipe.TokenSequence2FeatureSequence());"
   ]
  },
  {
   "cell_type": "code",
   "execution_count": 8,
   "metadata": {},
   "outputs": [],
   "source": [
    "instances = gateway.jvm.cc.mallet.types.InstanceList(gateway.jvm.cc.mallet.pipe.SerialPipes(pipeList))\n",
    "\n",
    "#testInstances = gateway.jvm.cc.mallet.types.InstanceList(instances.getPipe());\n",
    "\n",
    "insfileReader = gateway.jvm.java.io.InputStreamReader(gateway.jvm.java.io.FileInputStream \\\n",
    "                                            (gateway.jvm.java.io.File(sarray[0])), \"UTF-8\");\n",
    "\n",
    "#testfileReader = gateway.jvm.java.io.InputStreamReader(gateway.jvm.java.io.FileInputStream \\\n",
    "#                                           (gateway.jvm.java.io.File(sarray[1])), \"UTF-8\");\n",
    "\n",
    "instances.addThruPipe(gateway.jvm.cc.mallet.pipe.iterator.CsvIterator \\\n",
    "    (insfileReader, gateway.jvm.java.util.regex.Pattern.compile(\"^(\\\\S*)[\\\\s,]*(\\\\S*)[\\\\s,]*(.*)$\"), 3, 2, 1)); \n",
    "\n",
    "#testInstances.addThruPipe(gateway.jvm.cc.mallet.pipe.iterator.CsvIterator \\\n",
    "#    (testfileReader, gateway.jvm.java.util.regex.Pattern.compile(\"^(\\\\S*)[\\\\s,]*(\\\\S*)[\\\\s,]*(.*)$\"),3, 2, 1)); "
   ]
  },
  {
   "cell_type": "markdown",
   "metadata": {},
   "source": [
    "## LDA  implementation"
   ]
  },
  {
   "cell_type": "code",
   "execution_count": 9,
   "metadata": {},
   "outputs": [],
   "source": [
    "Numtopics = 20\n",
    "s0 = gateway.jvm.cc.mallet.topics.ParallelTopicModel(Numtopics)\n",
    "s0.addInstances(instances)\n",
    "s0.setOptimizeInterval(10)\n",
    "s0.estimate()"
   ]
  },
  {
   "cell_type": "code",
   "execution_count": 10,
   "metadata": {},
   "outputs": [],
   "source": [
    "#inferencer = s0.getInferencer()\n",
    "\n",
    "#testOut = gateway.jvm.java.io.PrintWriter(gateway.jvm.java.io.FileWriter\\\n",
    "#                            (\"/home/hadi/hLDA_GitHub/topicdistribution.csv\"));\n",
    "#inferencer. writeInferredDistributions(testInstances, testOut, 1000, 1, 0, 0.0, -1);\n",
    "#testOut.close();\n"
   ]
  },
  {
   "cell_type": "markdown",
   "metadata": {},
   "source": [
    "## hLDA implementation "
   ]
  },
  {
   "cell_type": "code",
   "execution_count": 13,
   "metadata": {},
   "outputs": [],
   "source": [
    "s1= gateway.jvm.cc.mallet.topics.HierarchicalLDA()        \n",
    "\n",
    "# set parameter\n",
    "s1.setAlpha(10.0)\n",
    "s1.setGamma(1.0);\n",
    "s1.setEta(0.1);\n",
    "\n",
    "# set level here, the default is 3\n",
    "tmpRand=gateway.jvm.cc.mallet.util.Randoms()\n",
    "s1.initialize(instances, instances, 3,  tmpRand);\n",
    "s1.estimate(200)"
   ]
  }
 ],
 "metadata": {
  "kernelspec": {
   "display_name": "Python 3",
   "language": "python",
   "name": "python3"
  },
  "language_info": {
   "codemirror_mode": {
    "name": "ipython",
    "version": 3
   },
   "file_extension": ".py",
   "mimetype": "text/x-python",
   "name": "python",
   "nbconvert_exporter": "python",
   "pygments_lexer": "ipython3",
   "version": "3.6.5"
  }
 },
 "nbformat": 4,
 "nbformat_minor": 2
}
